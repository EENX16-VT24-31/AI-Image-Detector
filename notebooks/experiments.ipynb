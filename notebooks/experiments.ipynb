{
 "cells": [
  {
   "cell_type": "code",
   "execution_count": null,
   "metadata": {},
   "outputs": [],
   "source": [
    "from ..src.model import *\n",
    "from ..src.utils import *\n",
    "from ..src.data import *\n",
    "from ..src.train import *\n",
    "from ..src.evaluate import *\n",
    "# Do experiments and stuff"
   ]
  }
 ],
 "metadata": {
  "language_info": {
   "name": "python"
  }
 },
 "nbformat": 4,
 "nbformat_minor": 2
}
